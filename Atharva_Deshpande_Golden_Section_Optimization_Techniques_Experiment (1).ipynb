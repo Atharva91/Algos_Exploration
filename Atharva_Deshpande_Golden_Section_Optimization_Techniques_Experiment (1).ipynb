{
 "cells": [
  {
   "cell_type": "code",
   "execution_count": 13,
   "metadata": {},
   "outputs": [],
   "source": [
    "import numpy as np\n",
    "import sympy as sp\n",
    "import matplotlib.pyplot as plt\n",
    "import seaborn as sns\n",
    "from sympy.plotting import plot"
   ]
  },
  {
   "cell_type": "code",
   "execution_count": 2,
   "metadata": {},
   "outputs": [],
   "source": [
    "x = sp.symbols('x')\n",
    "ao = sp.symbols('ao')\n",
    "bo = sp.symbols('bo')\n",
    "p = 0.382"
   ]
  },
  {
   "cell_type": "code",
   "execution_count": 3,
   "metadata": {},
   "outputs": [],
   "source": [
    "fx = (x**4)-(14*x**3)+(60*x**2)-(70*x)"
   ]
  },
  {
   "cell_type": "code",
   "execution_count": 4,
   "metadata": {},
   "outputs": [
    {
     "name": "stdout",
     "output_type": "stream",
     "text": [
      " Enter the number of Interations 4\n"
     ]
    }
   ],
   "source": [
    "n = int(input(\" Enter the number of Interations \"))"
   ]
  },
  {
   "cell_type": "code",
   "execution_count": 5,
   "metadata": {},
   "outputs": [
    {
     "name": "stdout",
     "output_type": "stream",
     "text": [
      " Enter ao 0\n",
      " Enter bo 2\n"
     ]
    }
   ],
   "source": [
    "ao = int(input(\" Enter ao \"))\n",
    "bo = int(input(\" Enter bo \"))"
   ]
  },
  {
   "cell_type": "code",
   "execution_count": 15,
   "metadata": {},
   "outputs": [],
   "source": [
    "def Golden_Section(n,ao,bo):\n",
    "    final_List = []\n",
    "    for i in range(0,n):\n",
    "   \n",
    "        a1 = ao + p*(bo-ao)\n",
    "        b1 = ao + (1-p)*(bo-ao)\n",
    "        fx1 = fx.subs(x,a1)\n",
    "        fx2 = fx.subs(x,b1)\n",
    "        if (fx2>fx1):\n",
    "            ao = ao\n",
    "            bo = b1\n",
    "        elif (fx1>fx2):\n",
    "            ao = a1\n",
    "            bo = bo\n",
    "    x_star=(ao+bo)/2\n",
    "    y_val = fx.subs(x,x_star)\n",
    "    final_List.append([fx1,fx2])\n",
    "    return final_List, (x_star,y_val)\n",
    "\n",
    "final,vals=Golden_Section(4,ao,bo)\n",
    "\n",
    "    \n",
    "            "
   ]
  },
  {
   "cell_type": "code",
   "execution_count": 19,
   "metadata": {},
   "outputs": [
    {
     "data": {
      "image/png": "[encoded data removed]",
      "text/plain": [
       "<Figure size 432x288 with 1 Axes>"
      ]
     },
     "metadata": {
      "needs_background": "light"
     },
     "output_type": "display_data"
    },
    {
     "data": {
      "text/plain": [
       "<sympy.plotting.plot.Plot at 0x1a7f3663520>"
      ]
     },
     "execution_count": 19,
     "metadata": {},
     "output_type": "execute_result"
    }
   ],
   "source": [
    "plot(fx, (x, 0,2),\n",
    "    annotations=[{\n",
    "        'xy':vals,\n",
    "        'text': 'x*'\n",
    "    }])"
   ]
  }
 ],
 "metadata": {
  "kernelspec": {
   "display_name": "Python 3 (ipykernel)",
   "language": "python",
   "name": "python3"
  },
  "language_info": {
   "codemirror_mode": {
    "name": "ipython",
    "version": 3
   },
   "file_extension": ".py",
   "mimetype": "text/x-python",
   "name": "python",
   "nbconvert_exporter": "python",
   "pygments_lexer": "ipython3",
   "version": "3.8.5"
  }
 },
 "nbformat": 4,
 "nbformat_minor": 4
}
